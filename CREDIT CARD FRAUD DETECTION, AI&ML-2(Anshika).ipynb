{
 "cells": [
  {
   "cell_type": "markdown",
   "id": "3e9e9052",
   "metadata": {},
   "source": [
    "## CREDIT CARD FRAUD DETECTION SYSTEM\n",
    "### ANSHIKA GUPTA 20CSU301\n",
    "### RITIKA SHARMA 20CSU357\n",
    "### MANYA JAIN 20CSU375"
   ]
  },
  {
   "cell_type": "markdown",
   "id": "e6529360",
   "metadata": {},
   "source": [
    "#### PROBLEM STATEMENT:\n",
    "#### It is important that credit card companies are able to recognize fraudulent credit card transactions so that customers are not charged for items that they did not purchase.\n",
    "\n"
   ]
  },
  {
   "cell_type": "markdown",
   "id": "8cafd3ec",
   "metadata": {},
   "source": [
    "## 1. IMPORTING THE LIBRARIES"
   ]
  },
  {
   "cell_type": "code",
   "execution_count": 1,
   "id": "47b0c875",
   "metadata": {},
   "outputs": [],
   "source": [
    "import pandas as pd\n",
    "import numpy as np\n",
    "import matplotlib.pyplot as plt\n",
    "import seaborn as sns\n",
    "\n",
    "from sklearn.model_selection import train_test_split\n",
    "from sklearn.model_selection import RandomizedSearchCV\n",
    "from sklearn.linear_model import LogisticRegression\n",
    "from sklearn.metrics import accuracy_score, precision_score, recall_score, confusion_matrix, f1_score\n",
    "from sklearn.metrics import classification_report\n",
    "from sklearn.metrics import roc_curve, roc_auc_score, auc\n",
    "from sklearn.preprocessing import PolynomialFeatures\n",
    "from sklearn.preprocessing import MinMaxScaler\n",
    "from sklearn.preprocessing import normalize\n",
    "from sklearn.svm import SVC\n",
    "from sklearn.naive_bayes import GaussianNB\n",
    "from sklearn.cluster import KMeans\n",
    "from sklearn.neighbors import KNeighborsClassifier\n",
    "from mpl_toolkits.mplot3d import Axes3D\n",
    "from sklearn.ensemble import RandomForestClassifier\n",
    "\n",
    "import warnings\n",
    "import time\n",
    "\n",
    "%matplotlib inline\n",
    "sns.set()\n",
    "warnings.simplefilter('ignore')"
   ]
  },
  {
   "cell_type": "markdown",
   "id": "75ff0d10",
   "metadata": {},
   "source": [
    "# 2. EXPLORATORY DATA ANALYSIS"
   ]
  },
  {
   "cell_type": "markdown",
   "id": "5896e49d",
   "metadata": {},
   "source": [
    "## DATA PREPROCESSING"
   ]
  },
  {
   "cell_type": "code",
   "execution_count": 2,
   "id": "e01f0e04",
   "metadata": {},
   "outputs": [
    {
     "data": {
      "text/html": [
       "<div>\n",
       "<style scoped>\n",
       "    .dataframe tbody tr th:only-of-type {\n",
       "        vertical-align: middle;\n",
       "    }\n",
       "\n",
       "    .dataframe tbody tr th {\n",
       "        vertical-align: top;\n",
       "    }\n",
       "\n",
       "    .dataframe thead th {\n",
       "        text-align: right;\n",
       "    }\n",
       "</style>\n",
       "<table border=\"1\" class=\"dataframe\">\n",
       "  <thead>\n",
       "    <tr style=\"text-align: right;\">\n",
       "      <th></th>\n",
       "      <th>Time</th>\n",
       "      <th>V1</th>\n",
       "      <th>V2</th>\n",
       "      <th>V3</th>\n",
       "      <th>V4</th>\n",
       "      <th>V5</th>\n",
       "      <th>V6</th>\n",
       "      <th>V7</th>\n",
       "      <th>V8</th>\n",
       "      <th>V9</th>\n",
       "      <th>...</th>\n",
       "      <th>V21</th>\n",
       "      <th>V22</th>\n",
       "      <th>V23</th>\n",
       "      <th>V24</th>\n",
       "      <th>V25</th>\n",
       "      <th>V26</th>\n",
       "      <th>V27</th>\n",
       "      <th>V28</th>\n",
       "      <th>Amount</th>\n",
       "      <th>Class</th>\n",
       "    </tr>\n",
       "  </thead>\n",
       "  <tbody>\n",
       "    <tr>\n",
       "      <th>0</th>\n",
       "      <td>0.0</td>\n",
       "      <td>-1.359807</td>\n",
       "      <td>-0.072781</td>\n",
       "      <td>2.536347</td>\n",
       "      <td>1.378155</td>\n",
       "      <td>-0.338321</td>\n",
       "      <td>0.462388</td>\n",
       "      <td>0.239599</td>\n",
       "      <td>0.098698</td>\n",
       "      <td>0.363787</td>\n",
       "      <td>...</td>\n",
       "      <td>-0.018307</td>\n",
       "      <td>0.277838</td>\n",
       "      <td>-0.110474</td>\n",
       "      <td>0.066928</td>\n",
       "      <td>0.128539</td>\n",
       "      <td>-0.189115</td>\n",
       "      <td>0.133558</td>\n",
       "      <td>-0.021053</td>\n",
       "      <td>149.62</td>\n",
       "      <td>0</td>\n",
       "    </tr>\n",
       "    <tr>\n",
       "      <th>1</th>\n",
       "      <td>0.0</td>\n",
       "      <td>1.191857</td>\n",
       "      <td>0.266151</td>\n",
       "      <td>0.166480</td>\n",
       "      <td>0.448154</td>\n",
       "      <td>0.060018</td>\n",
       "      <td>-0.082361</td>\n",
       "      <td>-0.078803</td>\n",
       "      <td>0.085102</td>\n",
       "      <td>-0.255425</td>\n",
       "      <td>...</td>\n",
       "      <td>-0.225775</td>\n",
       "      <td>-0.638672</td>\n",
       "      <td>0.101288</td>\n",
       "      <td>-0.339846</td>\n",
       "      <td>0.167170</td>\n",
       "      <td>0.125895</td>\n",
       "      <td>-0.008983</td>\n",
       "      <td>0.014724</td>\n",
       "      <td>2.69</td>\n",
       "      <td>0</td>\n",
       "    </tr>\n",
       "    <tr>\n",
       "      <th>2</th>\n",
       "      <td>1.0</td>\n",
       "      <td>-1.358354</td>\n",
       "      <td>-1.340163</td>\n",
       "      <td>1.773209</td>\n",
       "      <td>0.379780</td>\n",
       "      <td>-0.503198</td>\n",
       "      <td>1.800499</td>\n",
       "      <td>0.791461</td>\n",
       "      <td>0.247676</td>\n",
       "      <td>-1.514654</td>\n",
       "      <td>...</td>\n",
       "      <td>0.247998</td>\n",
       "      <td>0.771679</td>\n",
       "      <td>0.909412</td>\n",
       "      <td>-0.689281</td>\n",
       "      <td>-0.327642</td>\n",
       "      <td>-0.139097</td>\n",
       "      <td>-0.055353</td>\n",
       "      <td>-0.059752</td>\n",
       "      <td>378.66</td>\n",
       "      <td>0</td>\n",
       "    </tr>\n",
       "    <tr>\n",
       "      <th>3</th>\n",
       "      <td>1.0</td>\n",
       "      <td>-0.966272</td>\n",
       "      <td>-0.185226</td>\n",
       "      <td>1.792993</td>\n",
       "      <td>-0.863291</td>\n",
       "      <td>-0.010309</td>\n",
       "      <td>1.247203</td>\n",
       "      <td>0.237609</td>\n",
       "      <td>0.377436</td>\n",
       "      <td>-1.387024</td>\n",
       "      <td>...</td>\n",
       "      <td>-0.108300</td>\n",
       "      <td>0.005274</td>\n",
       "      <td>-0.190321</td>\n",
       "      <td>-1.175575</td>\n",
       "      <td>0.647376</td>\n",
       "      <td>-0.221929</td>\n",
       "      <td>0.062723</td>\n",
       "      <td>0.061458</td>\n",
       "      <td>123.50</td>\n",
       "      <td>0</td>\n",
       "    </tr>\n",
       "    <tr>\n",
       "      <th>4</th>\n",
       "      <td>2.0</td>\n",
       "      <td>-1.158233</td>\n",
       "      <td>0.877737</td>\n",
       "      <td>1.548718</td>\n",
       "      <td>0.403034</td>\n",
       "      <td>-0.407193</td>\n",
       "      <td>0.095921</td>\n",
       "      <td>0.592941</td>\n",
       "      <td>-0.270533</td>\n",
       "      <td>0.817739</td>\n",
       "      <td>...</td>\n",
       "      <td>-0.009431</td>\n",
       "      <td>0.798278</td>\n",
       "      <td>-0.137458</td>\n",
       "      <td>0.141267</td>\n",
       "      <td>-0.206010</td>\n",
       "      <td>0.502292</td>\n",
       "      <td>0.219422</td>\n",
       "      <td>0.215153</td>\n",
       "      <td>69.99</td>\n",
       "      <td>0</td>\n",
       "    </tr>\n",
       "  </tbody>\n",
       "</table>\n",
       "<p>5 rows × 31 columns</p>\n",
       "</div>"
      ],
      "text/plain": [
       "   Time        V1        V2        V3        V4        V5        V6        V7  \\\n",
       "0   0.0 -1.359807 -0.072781  2.536347  1.378155 -0.338321  0.462388  0.239599   \n",
       "1   0.0  1.191857  0.266151  0.166480  0.448154  0.060018 -0.082361 -0.078803   \n",
       "2   1.0 -1.358354 -1.340163  1.773209  0.379780 -0.503198  1.800499  0.791461   \n",
       "3   1.0 -0.966272 -0.185226  1.792993 -0.863291 -0.010309  1.247203  0.237609   \n",
       "4   2.0 -1.158233  0.877737  1.548718  0.403034 -0.407193  0.095921  0.592941   \n",
       "\n",
       "         V8        V9  ...       V21       V22       V23       V24       V25  \\\n",
       "0  0.098698  0.363787  ... -0.018307  0.277838 -0.110474  0.066928  0.128539   \n",
       "1  0.085102 -0.255425  ... -0.225775 -0.638672  0.101288 -0.339846  0.167170   \n",
       "2  0.247676 -1.514654  ...  0.247998  0.771679  0.909412 -0.689281 -0.327642   \n",
       "3  0.377436 -1.387024  ... -0.108300  0.005274 -0.190321 -1.175575  0.647376   \n",
       "4 -0.270533  0.817739  ... -0.009431  0.798278 -0.137458  0.141267 -0.206010   \n",
       "\n",
       "        V26       V27       V28  Amount  Class  \n",
       "0 -0.189115  0.133558 -0.021053  149.62      0  \n",
       "1  0.125895 -0.008983  0.014724    2.69      0  \n",
       "2 -0.139097 -0.055353 -0.059752  378.66      0  \n",
       "3 -0.221929  0.062723  0.061458  123.50      0  \n",
       "4  0.502292  0.219422  0.215153   69.99      0  \n",
       "\n",
       "[5 rows x 31 columns]"
      ]
     },
     "execution_count": 2,
     "metadata": {},
     "output_type": "execute_result"
    }
   ],
   "source": [
    "# Loading the dataset into pandas dataframe\n",
    "data = pd.read_csv('creditcard.csv')\n",
    "data.head()"
   ]
  },
  {
   "cell_type": "code",
   "execution_count": 3,
   "id": "0c75b8b6",
   "metadata": {},
   "outputs": [
    {
     "data": {
      "text/plain": [
       "(284807, 31)"
      ]
     },
     "execution_count": 3,
     "metadata": {},
     "output_type": "execute_result"
    }
   ],
   "source": [
    "data.shape"
   ]
  },
  {
   "cell_type": "code",
   "execution_count": 4,
   "id": "1ad2c0d3",
   "metadata": {},
   "outputs": [
    {
     "name": "stdout",
     "output_type": "stream",
     "text": [
      "<class 'pandas.core.frame.DataFrame'>\n",
      "RangeIndex: 284807 entries, 0 to 284806\n",
      "Data columns (total 31 columns):\n",
      " #   Column  Non-Null Count   Dtype  \n",
      "---  ------  --------------   -----  \n",
      " 0   Time    284807 non-null  float64\n",
      " 1   V1      284807 non-null  float64\n",
      " 2   V2      284807 non-null  float64\n",
      " 3   V3      284807 non-null  float64\n",
      " 4   V4      284807 non-null  float64\n",
      " 5   V5      284807 non-null  float64\n",
      " 6   V6      284807 non-null  float64\n",
      " 7   V7      284807 non-null  float64\n",
      " 8   V8      284807 non-null  float64\n",
      " 9   V9      284807 non-null  float64\n",
      " 10  V10     284807 non-null  float64\n",
      " 11  V11     284807 non-null  float64\n",
      " 12  V12     284807 non-null  float64\n",
      " 13  V13     284807 non-null  float64\n",
      " 14  V14     284807 non-null  float64\n",
      " 15  V15     284807 non-null  float64\n",
      " 16  V16     284807 non-null  float64\n",
      " 17  V17     284807 non-null  float64\n",
      " 18  V18     284807 non-null  float64\n",
      " 19  V19     284807 non-null  float64\n",
      " 20  V20     284807 non-null  float64\n",
      " 21  V21     284807 non-null  float64\n",
      " 22  V22     284807 non-null  float64\n",
      " 23  V23     284807 non-null  float64\n",
      " 24  V24     284807 non-null  float64\n",
      " 25  V25     284807 non-null  float64\n",
      " 26  V26     284807 non-null  float64\n",
      " 27  V27     284807 non-null  float64\n",
      " 28  V28     284807 non-null  float64\n",
      " 29  Amount  284807 non-null  float64\n",
      " 30  Class   284807 non-null  int64  \n",
      "dtypes: float64(30), int64(1)\n",
      "memory usage: 67.4 MB\n"
     ]
    }
   ],
   "source": [
    "data.info()"
   ]
  },
  {
   "cell_type": "markdown",
   "id": "aeb2f6fc",
   "metadata": {},
   "source": [
    "### OBSERVATIONS\n",
    "#### 1. There are 31 columns in the dataset, 28 of them being the output of PCA (V1 — V28), as well as values for amount and time.\n",
    "#### 2. Our response variable is class, with 0 being the result for no fraud, and 1 being the result for fraud. \n",
    "#### 3. The shape of the data tells us that there are 284807 entries and 31 columns.\n",
    "#### 4. As per the count per column, we have no null values"
   ]
  },
  {
   "cell_type": "code",
   "execution_count": 5,
   "id": "cc073a62",
   "metadata": {},
   "outputs": [
    {
     "name": "stdout",
     "output_type": "stream",
     "text": [
      "Total number of Trnsactions are  284807\n",
      "Number of Normal Transactions are  284315\n",
      "Number of fraudulent Transactions are  492\n",
      "Percentage of fraud Transactions is  0.17\n"
     ]
    }
   ],
   "source": [
    "Total_transactions = len(data)\n",
    "normal = len(data[data.Class == 0])\n",
    "fraudulent = len(data[data.Class == 1])\n",
    "fraud_percentage = round(fraudulent/normal*100, 2)\n",
    "print('Total number of Trnsactions are ',Total_transactions)\n",
    "print('Number of Normal Transactions are ',normal)\n",
    "print('Number of fraudulent Transactions are ',fraudulent)\n",
    "print('Percentage of fraud Transactions is ',fraud_percentage)\n"
   ]
  },
  {
   "cell_type": "code",
   "execution_count": 6,
   "id": "bbc53f37",
   "metadata": {},
   "outputs": [
    {
     "data": {
      "text/plain": [
       "<AxesSubplot:xlabel='Class', ylabel='count'>"
      ]
     },
     "execution_count": 6,
     "metadata": {},
     "output_type": "execute_result"
    },
    {
     "data": {
      "image/png": "[encoded data removed]",
      "text/plain": [
       "<Figure size 432x288 with 1 Axes>"
      ]
     },
     "metadata": {},
     "output_type": "display_data"
    }
   ],
   "source": [
    "sns.countplot(x=data.Class, hue=data.Class)"
   ]
  },
  {
   "cell_type": "markdown",
   "id": "7590b070",
   "metadata": {},
   "source": [
    "####  As you can see, our dataset is highly imbalanced, as an overwhelming majority of our data is in the 0 class. This is a problem because we have to give the same amount of opportunities for the model to train from both classes."
   ]
  },
  {
   "cell_type": "markdown",
   "id": "2b071b49",
   "metadata": {},
   "source": [
    "#### #Next, we can plot the distribution of both amount and time over the two classes. We can do this by indexing the dataframe to extract the column we want to plot."
   ]
  },
  {
   "cell_type": "code",
   "execution_count": 7,
   "id": "62bc8980",
   "metadata": {},
   "outputs": [
    {
     "data": {
      "text/plain": [
       "<matplotlib.collections.PathCollection at 0x7f852048bdf0>"
      ]
     },
     "execution_count": 7,
     "metadata": {},
     "output_type": "execute_result"
    },
    {
     "data": {
      "image/png": "[encoded data removed]",
      "text/plain": [
       "<Figure size 432x288 with 1 Axes>"
      ]
     },
     "metadata": {},
     "output_type": "display_data"
    }
   ],
   "source": [
    "plt.title(\"Distribution of Amount over Both Classes\")\n",
    "plt.xlabel(\"Amount\")\n",
    "plt.ylabel(\"Class\")\n",
    "\n",
    "plt.scatter(data[\"Amount\"],data[\"Class\"])"
   ]
  },
  {
   "cell_type": "markdown",
   "id": "a973d887",
   "metadata": {},
   "source": [
    "#### We can see that fraudulent entries tend to have lower amount values, as opposed to non-fraudulent ones. It is also noteworthy that values for non-fraudulent amounts aren’t spread evenly, as there are larger intervals between the higher values in this variable."
   ]
  },
  {
   "cell_type": "code",
   "execution_count": 8,
   "id": "afef1d82",
   "metadata": {},
   "outputs": [
    {
     "data": {
      "text/plain": [
       "<matplotlib.collections.PathCollection at 0x7f84f80910d0>"
      ]
     },
     "execution_count": 8,
     "metadata": {},
     "output_type": "execute_result"
    },
    {
     "data": {
      "image/png": "[encoded data removed]",
      "text/plain": [
       "<Figure size 432x288 with 1 Axes>"
      ]
     },
     "metadata": {},
     "output_type": "display_data"
    }
   ],
   "source": [
    "plt.title(\"Distribution of Time over Both Classes\")\n",
    "plt.xlabel(\"Time\")\n",
    "plt.ylabel(\"Class\")\n",
    "\n",
    "plt.scatter(data[\"Time\"],data[\"Class\"])"
   ]
  },
  {
   "cell_type": "markdown",
   "id": "c4f91ee1",
   "metadata": {},
   "source": [
    "#### In terms of time, there doesn’t seem to be a differentiation between the two classes, as those values are consistent among both fraudulent and non-fraudulent entries. This makes sense, because as mentioned earlier, the time feature is representing the seconds elapsed since the first transaction. Hence, the time variable will continue to increase. Assuming that the fraudulent transactions are not all isolated from the non-fraudulent ones in terms of time, they will both have continuous time values. Since we do not see any specific pattern for the fraudulent and non-fraudulent transctions with respect to Time. Hence, we can drop the Time column.\n",
    "\n"
   ]
  },
  {
   "cell_type": "markdown",
   "id": "8fbfc575",
   "metadata": {},
   "source": [
    "#### We are not performing any outliers treatment for this particular dataset. Because all the columns are already PCA transformed, which assumed that the outlier values are taken care while transforming the data.\n",
    "\n"
   ]
  },
  {
   "cell_type": "code",
   "execution_count": 9,
   "id": "4a1272e1",
   "metadata": {},
   "outputs": [
    {
     "data": {
      "text/plain": [
       "<AxesSubplot:>"
      ]
     },
     "execution_count": 9,
     "metadata": {},
     "output_type": "execute_result"
    },
    {
     "data": {
      "image/png": "[encoded data removed]",
      "text/plain": [
       "<Figure size 720x720 with 2 Axes>"
      ]
     },
     "metadata": {},
     "output_type": "display_data"
    }
   ],
   "source": [
    "correlation = data.corr()\n",
    "fig = plt.subplots(figsize=(10,10)) \n",
    "sns.heatmap(correlation, vmax= 1 )"
   ]
  },
  {
   "cell_type": "markdown",
   "id": "11863741",
   "metadata": {},
   "source": [
    "#### 1.From this correlation matrix, we can see that there are no major correlations between the features in the dataset. Most of the relationships fall between -0.2 and 0.2. Though, there are some exceptions, particularly in analyzing the correlation between the amount feature, V7, and V20.\n",
    "#### 2. Another observation is the minimal relationship between the features and class. This can be attributed to the imbalanced nature of the data, which can downplay the importance of certain features."
   ]
  },
  {
   "cell_type": "markdown",
   "id": "15393452",
   "metadata": {},
   "source": [
    "#### HANDLING TIME COLUMN"
   ]
  },
  {
   "cell_type": "code",
   "execution_count": 10,
   "id": "10cc28df",
   "metadata": {},
   "outputs": [],
   "source": [
    "#Since this column is not relevant to the training anymore we can easily drop it\n",
    "data.drop(['Time'], axis=1, inplace=True)\n"
   ]
  },
  {
   "cell_type": "code",
   "execution_count": 11,
   "id": "a89d763c",
   "metadata": {},
   "outputs": [],
   "source": [
    "#Removing the duplicate entries\n",
    "data.drop_duplicates(inplace=True)"
   ]
  },
  {
   "cell_type": "code",
   "execution_count": 12,
   "id": "02c3a161",
   "metadata": {},
   "outputs": [
    {
     "data": {
      "text/plain": [
       "(275663, 30)"
      ]
     },
     "execution_count": 12,
     "metadata": {},
     "output_type": "execute_result"
    }
   ],
   "source": [
    "data.shape"
   ]
  },
  {
   "cell_type": "markdown",
   "id": "b3df1d52",
   "metadata": {},
   "source": [
    "#### HANDLING AMOUNT COLUMN"
   ]
  },
  {
   "cell_type": "code",
   "execution_count": 13,
   "id": "499f6a65",
   "metadata": {},
   "outputs": [],
   "source": [
    "data['Amount-Bins'] = ''"
   ]
  },
  {
   "cell_type": "code",
   "execution_count": 14,
   "id": "86fdd8a9",
   "metadata": {},
   "outputs": [],
   "source": [
    "def make_bins(predictor, size=50):\n",
    "    '''Takes the predictor (a series or a dataframe of single predictor) and size of bins. Returns bins and bin labels'''\n",
    "    bins = np.linspace(predictor.min(), predictor.max(), num=size)\n",
    "    bin_labels = []\n",
    "    # Index of the final element in bins list\n",
    "    bins_last_index = bins.shape[0] - 1\n",
    "\n",
    "    for id, val in enumerate(bins):\n",
    "        if id == bins_last_index:\n",
    "            continue\n",
    "        val_to_put = str(int(bins[id])) + ' to ' + str(int(bins[id + 1]))\n",
    "        bin_labels.append(val_to_put)\n",
    "    \n",
    "    return bins, bin_labels"
   ]
  },
  {
   "cell_type": "code",
   "execution_count": 15,
   "id": "08b4dac2",
   "metadata": {},
   "outputs": [],
   "source": [
    "bins, bin_labels = make_bins(data.Amount, size=10)"
   ]
  },
  {
   "cell_type": "code",
   "execution_count": 16,
   "id": "de4e1c45",
   "metadata": {},
   "outputs": [
    {
     "data": {
      "text/html": [
       "<div>\n",
       "<style scoped>\n",
       "    .dataframe tbody tr th:only-of-type {\n",
       "        vertical-align: middle;\n",
       "    }\n",
       "\n",
       "    .dataframe tbody tr th {\n",
       "        vertical-align: top;\n",
       "    }\n",
       "\n",
       "    .dataframe thead th {\n",
       "        text-align: right;\n",
       "    }\n",
       "</style>\n",
       "<table border=\"1\" class=\"dataframe\">\n",
       "  <thead>\n",
       "    <tr style=\"text-align: right;\">\n",
       "      <th></th>\n",
       "      <th>Amount-Bins</th>\n",
       "    </tr>\n",
       "  </thead>\n",
       "  <tbody>\n",
       "    <tr>\n",
       "      <th>0</th>\n",
       "      <td>0 to 2854</td>\n",
       "    </tr>\n",
       "    <tr>\n",
       "      <th>1</th>\n",
       "      <td>0 to 2854</td>\n",
       "    </tr>\n",
       "    <tr>\n",
       "      <th>2</th>\n",
       "      <td>0 to 2854</td>\n",
       "    </tr>\n",
       "    <tr>\n",
       "      <th>3</th>\n",
       "      <td>0 to 2854</td>\n",
       "    </tr>\n",
       "    <tr>\n",
       "      <th>4</th>\n",
       "      <td>0 to 2854</td>\n",
       "    </tr>\n",
       "  </tbody>\n",
       "</table>\n",
       "</div>"
      ],
      "text/plain": [
       "  Amount-Bins\n",
       "0   0 to 2854\n",
       "1   0 to 2854\n",
       "2   0 to 2854\n",
       "3   0 to 2854\n",
       "4   0 to 2854"
      ]
     },
     "execution_count": 16,
     "metadata": {},
     "output_type": "execute_result"
    }
   ],
   "source": [
    "data['Amount-Bins'] = pd.cut(data.Amount, bins=bins,labels=bin_labels, include_lowest=True)\n",
    "data['Amount-Bins'].head().to_frame()"
   ]
  },
  {
   "cell_type": "code",
   "execution_count": 17,
   "id": "1b4f0a4f",
   "metadata": {},
   "outputs": [
    {
     "data": {
      "text/plain": [
       "0 to 2854         275343\n",
       "2854 to 5709         282\n",
       "5709 to 8563          28\n",
       "8563 to 11418          4\n",
       "11418 to 14272         3\n",
       "17127 to 19982         2\n",
       "22836 to 25691         1\n",
       "14272 to 17127         0\n",
       "19982 to 22836         0\n",
       "Name: Amount-Bins, dtype: int64"
      ]
     },
     "execution_count": 17,
     "metadata": {},
     "output_type": "execute_result"
    }
   ],
   "source": [
    "data['Amount-Bins'].value_counts()"
   ]
  },
  {
   "cell_type": "code",
   "execution_count": 18,
   "id": "e8f5f7b5",
   "metadata": {},
   "outputs": [
    {
     "data": {
      "text/plain": [
       "(array([0, 1, 2, 3, 4, 5, 6, 7, 8]),\n",
       " [Text(0, 0, '0 to 2854'),\n",
       "  Text(1, 0, '2854 to 5709'),\n",
       "  Text(2, 0, '5709 to 8563'),\n",
       "  Text(3, 0, '8563 to 11418'),\n",
       "  Text(4, 0, '11418 to 14272'),\n",
       "  Text(5, 0, '14272 to 17127'),\n",
       "  Text(6, 0, '17127 to 19982'),\n",
       "  Text(7, 0, '19982 to 22836'),\n",
       "  Text(8, 0, '22836 to 25691')])"
      ]
     },
     "execution_count": 18,
     "metadata": {},
     "output_type": "execute_result"
    },
    {
     "data": {
      "image/png": "[encoded data removed]",
      "text/plain": [
       "<Figure size 1080x720 with 1 Axes>"
      ]
     },
     "metadata": {},
     "output_type": "display_data"
    }
   ],
   "source": [
    "plt.figure(figsize=(15, 10))\n",
    "sns.countplot(x='Amount-Bins', data=data)\n",
    "plt.xticks(rotation=45)"
   ]
  },
  {
   "cell_type": "code",
   "execution_count": 19,
   "id": "e3ce4ff6",
   "metadata": {},
   "outputs": [],
   "source": [
    "data_encoded = pd.get_dummies(data=data, columns=['Amount-Bins'])\n",
    "data = data_encoded.copy()"
   ]
  },
  {
   "cell_type": "markdown",
   "id": "b36d56ea",
   "metadata": {},
   "source": [
    "# 3. TRAIN AND TEST SPLIT"
   ]
  },
  {
   "cell_type": "markdown",
   "id": "955df588",
   "metadata": {},
   "source": [
    "#### 1. Before splitting train & test — we need to define dependent and independent variables. The dependent variable is also known as X and the independent variable is known as Y. \n",
    "#### 2. We can split the data into training and testing values with a test size of 30%.\n",
    "\n"
   ]
  },
  {
   "cell_type": "code",
   "execution_count": 20,
   "id": "e1fe26af",
   "metadata": {},
   "outputs": [
    {
     "name": "stdout",
     "output_type": "stream",
     "text": [
      "(275663, 38)\n",
      "(275663,)\n"
     ]
    }
   ],
   "source": [
    "X=data.drop(['Class'], axis=1)\n",
    "Y=data[\"Class\"]\n",
    "print(X.shape)\n",
    "print(Y.shape)\n",
    "#getting just the values for the sake of processing (its a numpy array with no columns)\n",
    "X_data=X.values\n",
    "Y_data=Y.values\n",
    "X_train_Before, X_test, Y_train_Before, Y_test = train_test_split(X, Y, test_size = 0.3, random_state = 42)"
   ]
  },
  {
   "cell_type": "code",
   "execution_count": 21,
   "id": "b073c475",
   "metadata": {},
   "outputs": [],
   "source": [
    "#Data Normalization\n",
    "from sklearn.preprocessing import StandardScaler\n",
    "scaler = StandardScaler()\n",
    "for i in X_train_Before:\n",
    "    scaler = StandardScaler()\n",
    "    X_train_Before[i] = scaler.fit_transform(X_train_Before[i].values.reshape(-1,1))\n",
    "    X_test[i] = scaler.transform(X_test[i].values.reshape(-1,1))"
   ]
  },
  {
   "cell_type": "code",
   "execution_count": 22,
   "id": "6e50b8d0",
   "metadata": {},
   "outputs": [
    {
     "data": {
      "text/plain": [
       "<bound method NDFrame.describe of                V1         V2        V3        V4        V5        V6  \\\n",
       "0       -1.359807  -0.072781  2.536347  1.378155 -0.338321  0.462388   \n",
       "1        1.191857   0.266151  0.166480  0.448154  0.060018 -0.082361   \n",
       "2       -1.358354  -1.340163  1.773209  0.379780 -0.503198  1.800499   \n",
       "3       -0.966272  -0.185226  1.792993 -0.863291 -0.010309  1.247203   \n",
       "4       -1.158233   0.877737  1.548718  0.403034 -0.407193  0.095921   \n",
       "...           ...        ...       ...       ...       ...       ...   \n",
       "284802 -11.881118  10.071785 -9.834783 -2.066656 -5.364473 -2.606837   \n",
       "284803  -0.732789  -0.055080  2.035030 -0.738589  0.868229  1.058415   \n",
       "284804   1.919565  -0.301254 -3.249640 -0.557828  2.630515  3.031260   \n",
       "284805  -0.240440   0.530483  0.702510  0.689799 -0.377961  0.623708   \n",
       "284806  -0.533413  -0.189733  0.703337 -0.506271 -0.012546 -0.649617   \n",
       "\n",
       "              V7        V8        V9       V10  ...  Class  \\\n",
       "0       0.239599  0.098698  0.363787  0.090794  ...      0   \n",
       "1      -0.078803  0.085102 -0.255425 -0.166974  ...      0   \n",
       "2       0.791461  0.247676 -1.514654  0.207643  ...      0   \n",
       "3       0.237609  0.377436 -1.387024 -0.054952  ...      0   \n",
       "4       0.592941 -0.270533  0.817739  0.753074  ...      0   \n",
       "...          ...       ...       ...       ...  ...    ...   \n",
       "284802 -4.918215  7.305334  1.914428  4.356170  ...      0   \n",
       "284803  0.024330  0.294869  0.584800 -0.975926  ...      0   \n",
       "284804 -0.296827  0.708417  0.432454 -0.484782  ...      0   \n",
       "284805 -0.686180  0.679145  0.392087 -0.399126  ...      0   \n",
       "284806  1.577006 -0.414650  0.486180 -0.915427  ...      0   \n",
       "\n",
       "        Amount-Bins_0 to 2854  Amount-Bins_2854 to 5709  \\\n",
       "0                           1                         0   \n",
       "1                           1                         0   \n",
       "2                           1                         0   \n",
       "3                           1                         0   \n",
       "4                           1                         0   \n",
       "...                       ...                       ...   \n",
       "284802                      1                         0   \n",
       "284803                      1                         0   \n",
       "284804                      1                         0   \n",
       "284805                      1                         0   \n",
       "284806                      1                         0   \n",
       "\n",
       "        Amount-Bins_5709 to 8563  Amount-Bins_8563 to 11418  \\\n",
       "0                              0                          0   \n",
       "1                              0                          0   \n",
       "2                              0                          0   \n",
       "3                              0                          0   \n",
       "4                              0                          0   \n",
       "...                          ...                        ...   \n",
       "284802                         0                          0   \n",
       "284803                         0                          0   \n",
       "284804                         0                          0   \n",
       "284805                         0                          0   \n",
       "284806                         0                          0   \n",
       "\n",
       "        Amount-Bins_11418 to 14272  Amount-Bins_14272 to 17127  \\\n",
       "0                                0                           0   \n",
       "1                                0                           0   \n",
       "2                                0                           0   \n",
       "3                                0                           0   \n",
       "4                                0                           0   \n",
       "...                            ...                         ...   \n",
       "284802                           0                           0   \n",
       "284803                           0                           0   \n",
       "284804                           0                           0   \n",
       "284805                           0                           0   \n",
       "284806                           0                           0   \n",
       "\n",
       "        Amount-Bins_17127 to 19982  Amount-Bins_19982 to 22836  \\\n",
       "0                                0                           0   \n",
       "1                                0                           0   \n",
       "2                                0                           0   \n",
       "3                                0                           0   \n",
       "4                                0                           0   \n",
       "...                            ...                         ...   \n",
       "284802                           0                           0   \n",
       "284803                           0                           0   \n",
       "284804                           0                           0   \n",
       "284805                           0                           0   \n",
       "284806                           0                           0   \n",
       "\n",
       "        Amount-Bins_22836 to 25691  \n",
       "0                                0  \n",
       "1                                0  \n",
       "2                                0  \n",
       "3                                0  \n",
       "4                                0  \n",
       "...                            ...  \n",
       "284802                           0  \n",
       "284803                           0  \n",
       "284804                           0  \n",
       "284805                           0  \n",
       "284806                           0  \n",
       "\n",
       "[275663 rows x 39 columns]>"
      ]
     },
     "execution_count": 22,
     "metadata": {},
     "output_type": "execute_result"
    }
   ],
   "source": [
    "data.describe"
   ]
  },
  {
   "cell_type": "markdown",
   "id": "1c8b5ebc",
   "metadata": {},
   "source": [
    "#### We now have two different data set — Train data we will be used for training our model and the data which is unseen will be used for testing. \n",
    "#### Now, If you look at the data, you will see that the amount values are significantly higher than the entries for other features. For example, in the first entry in data.head(), the amount value is 149.62, which is significantly different from V1 which is approximately -1.36. To resolve this problem, we will use the standard scaler. By scaling the variable, the model’s efficiency will increase.\n",
    "\n"
   ]
  },
  {
   "cell_type": "markdown",
   "id": "c3886994",
   "metadata": {},
   "source": [
    "### Balancing the Data with Borderline-SMOTE\n",
    "#### Now, we will need to balance our data to ensure that the model has enough exposure to BOTH classes! This ensures that the model won’t be biased towards the non-fraudulent values, as currently there are more than 280,000 entries with a class of 0, while there are only 492 fraudulent values.\n",
    "#### To change the number of values in class 1, there are two possible methods: random undersampling (reduces the number of entries from the majority class) and synthetic oversampling (synthetically generating new entries for the minority class). Because we want to provide our model with as much data as possible, we will use a technique called Borderline-SMOTE (Borderline Synthetic Minority Oversampling Technique). The reason that Borderline-SMOTE was used as opposed to SMOTE is that it takes synthetically generates data in between different elements in the minority class, while ignoring outliers. Outliers can be defined as features which neighbour more majority points, than minority ones."
   ]
  },
  {
   "cell_type": "code",
   "execution_count": 23,
   "id": "a31edb45",
   "metadata": {},
   "outputs": [],
   "source": [
    "#Balancing with Borderline_SMOTE\n",
    "from imblearn.over_sampling import BorderlineSMOTE\n",
    "borderlineSMOTE = BorderlineSMOTE(k_neighbors = 10, random_state = 42)\n",
    "X_train, Y_train = borderlineSMOTE.fit_resample(X_train_Before,Y_train_Before)"
   ]
  },
  {
   "cell_type": "code",
   "execution_count": 24,
   "id": "85d810f6",
   "metadata": {},
   "outputs": [
    {
     "name": "stdout",
     "output_type": "stream",
     "text": [
      "(385254, 38) (385254,)\n",
      "(82699, 38) (82699,)\n"
     ]
    }
   ],
   "source": [
    "print(X_train.shape, Y_train.shape)\n",
    "print(X_test.shape, Y_test.shape)"
   ]
  },
  {
   "cell_type": "code",
   "execution_count": 25,
   "id": "54bb03bc",
   "metadata": {},
   "outputs": [
    {
     "data": {
      "text/plain": [
       "<AxesSubplot:xlabel='Class', ylabel='count'>"
      ]
     },
     "execution_count": 25,
     "metadata": {},
     "output_type": "execute_result"
    },
    {
     "data": {
      "image/png": "[encoded data removed]",
      "text/plain": [
       "<Figure size 432x288 with 1 Axes>"
      ]
     },
     "metadata": {},
     "output_type": "display_data"
    }
   ],
   "source": [
    "#Unbalanced training data distribution\n",
    "sns.countplot(x=Y_train_Before)\n"
   ]
  },
  {
   "cell_type": "code",
   "execution_count": 26,
   "id": "ca6c0ec5",
   "metadata": {},
   "outputs": [
    {
     "data": {
      "text/plain": [
       "<AxesSubplot:xlabel='Class', ylabel='count'>"
      ]
     },
     "execution_count": 26,
     "metadata": {},
     "output_type": "execute_result"
    },
    {
     "data": {
      "image/png": "[encoded data removed]",
      "text/plain": [
       "<Figure size 432x288 with 1 Axes>"
      ]
     },
     "metadata": {},
     "output_type": "display_data"
    }
   ],
   "source": [
    "#Balanced training data distribution\n",
    "sns.countplot(x=Y_train)"
   ]
  },
  {
   "cell_type": "markdown",
   "id": "96209e8b",
   "metadata": {},
   "source": [
    "#### Our dataset is now balanced! This ensures that our model can see the same amount of elements from each of the classes."
   ]
  },
  {
   "cell_type": "markdown",
   "id": "26f1eb5d",
   "metadata": {},
   "source": [
    "# 4. APPLYING MACHINE LEARNING MODELS"
   ]
  },
  {
   "cell_type": "markdown",
   "id": "f78c4147",
   "metadata": {},
   "source": [
    "Let's apply different Machine Learning Algorithms then compare their metrics to select the most suitable ML algorithm. Algorithms to be used are:\n",
    "1. Logistic Regression \n",
    "2. Naive Bayes\n",
    "3. K-Nearest Neighbors\n",
    "4. Random Forest\n",
    "\n",
    "The metrics we'll use initially are:\n",
    "* Accuracy\n",
    "* Precision\n",
    "* F1-Score\n",
    "\n",
    "The main metrics we'll look at are (Reason is mentioned later):\n",
    "* Recall\n",
    "* AUC/RUC Curve"
   ]
  },
  {
   "cell_type": "markdown",
   "id": "ab966de4",
   "metadata": {},
   "source": [
    "#### Before we start building models, it is crucial to define the performance metrics we will be using. As our validation data is imbalanced, if the model would predict the majority class every time, our model will receive an accuracy that is significantly skewed without consideration for the minority class. Hence, we will be using precision, recall, and F1 score."
   ]
  },
  {
   "cell_type": "markdown",
   "id": "acc95f71",
   "metadata": {},
   "source": [
    "#### 1) LOGISTIC REGRESSION"
   ]
  },
  {
   "cell_type": "markdown",
   "id": "e32d620f",
   "metadata": {},
   "source": [
    "Before going further into metrics, let's first decide either Type-I or Type-II error is more important to consider.<br><br>\n",
    "```Type-I  Error or False Positives:``` False Positives are the ones which are actually not fraud but the prediction said that they are fraud.<br>\n",
    "```Type-II Error or False Negatives:``` False Negatives are the ones which are actually fraud but the system said that they aren't.\n",
    "\n",
    "Well, we can say that Type-II Error is more significant because we don't want system to have a fraudulent credit card because that can be more dangerous.\n",
    "\n",
    "So, for Type-II Error, We can say that **recall** is the important metric."
   ]
  },
  {
   "cell_type": "code",
   "execution_count": 27,
   "id": "908f8200",
   "metadata": {},
   "outputs": [
    {
     "data": {
      "text/html": [
       "<style>#sk-container-id-1 {color: black;background-color: white;}#sk-container-id-1 pre{padding: 0;}#sk-container-id-1 div.sk-toggleable {background-color: white;}#sk-container-id-1 label.sk-toggleable__label {cursor: pointer;display: block;width: 100%;margin-bottom: 0;padding: 0.3em;box-sizing: border-box;text-align: center;}#sk-container-id-1 label.sk-toggleable__label-arrow:before {content: \"▸\";float: left;margin-right: 0.25em;color: #696969;}#sk-container-id-1 label.sk-toggleable__label-arrow:hover:before {color: black;}#sk-container-id-1 div.sk-estimator:hover label.sk-toggleable__label-arrow:before {color: black;}#sk-container-id-1 div.sk-toggleable__content {max-height: 0;max-width: 0;overflow: hidden;text-align: left;background-color: #f0f8ff;}#sk-container-id-1 div.sk-toggleable__content pre {margin: 0.2em;color: black;border-radius: 0.25em;background-color: #f0f8ff;}#sk-container-id-1 input.sk-toggleable__control:checked~div.sk-toggleable__content {max-height: 200px;max-width: 100%;overflow: auto;}#sk-container-id-1 input.sk-toggleable__control:checked~label.sk-toggleable__label-arrow:before {content: \"▾\";}#sk-container-id-1 div.sk-estimator input.sk-toggleable__control:checked~label.sk-toggleable__label {background-color: #d4ebff;}#sk-container-id-1 div.sk-label input.sk-toggleable__control:checked~label.sk-toggleable__label {background-color: #d4ebff;}#sk-container-id-1 input.sk-hidden--visually {border: 0;clip: rect(1px 1px 1px 1px);clip: rect(1px, 1px, 1px, 1px);height: 1px;margin: -1px;overflow: hidden;padding: 0;position: absolute;width: 1px;}#sk-container-id-1 div.sk-estimator {font-family: monospace;background-color: #f0f8ff;border: 1px dotted black;border-radius: 0.25em;box-sizing: border-box;margin-bottom: 0.5em;}#sk-container-id-1 div.sk-estimator:hover {background-color: #d4ebff;}#sk-container-id-1 div.sk-parallel-item::after {content: \"\";width: 100%;border-bottom: 1px solid gray;flex-grow: 1;}#sk-container-id-1 div.sk-label:hover label.sk-toggleable__label {background-color: #d4ebff;}#sk-container-id-1 div.sk-serial::before {content: \"\";position: absolute;border-left: 1px solid gray;box-sizing: border-box;top: 0;bottom: 0;left: 50%;z-index: 0;}#sk-container-id-1 div.sk-serial {display: flex;flex-direction: column;align-items: center;background-color: white;padding-right: 0.2em;padding-left: 0.2em;position: relative;}#sk-container-id-1 div.sk-item {position: relative;z-index: 1;}#sk-container-id-1 div.sk-parallel {display: flex;align-items: stretch;justify-content: center;background-color: white;position: relative;}#sk-container-id-1 div.sk-item::before, #sk-container-id-1 div.sk-parallel-item::before {content: \"\";position: absolute;border-left: 1px solid gray;box-sizing: border-box;top: 0;bottom: 0;left: 50%;z-index: -1;}#sk-container-id-1 div.sk-parallel-item {display: flex;flex-direction: column;z-index: 1;position: relative;background-color: white;}#sk-container-id-1 div.sk-parallel-item:first-child::after {align-self: flex-end;width: 50%;}#sk-container-id-1 div.sk-parallel-item:last-child::after {align-self: flex-start;width: 50%;}#sk-container-id-1 div.sk-parallel-item:only-child::after {width: 0;}#sk-container-id-1 div.sk-dashed-wrapped {border: 1px dashed gray;margin: 0 0.4em 0.5em 0.4em;box-sizing: border-box;padding-bottom: 0.4em;background-color: white;}#sk-container-id-1 div.sk-label label {font-family: monospace;font-weight: bold;display: inline-block;line-height: 1.2em;}#sk-container-id-1 div.sk-label-container {text-align: center;}#sk-container-id-1 div.sk-container {/* jupyter's `normalize.less` sets `[hidden] { display: none; }` but bootstrap.min.css set `[hidden] { display: none !important; }` so we also need the `!important` here to be able to override the default hidden behavior on the sphinx rendered scikit-learn.org. See: https://github.com/scikit-learn/scikit-learn/issues/21755 */display: inline-block !important;position: relative;}#sk-container-id-1 div.sk-text-repr-fallback {display: none;}</style><div id=\"sk-container-id-1\" class=\"sk-top-container\"><div class=\"sk-text-repr-fallback\"><pre>LogisticRegression()</pre><b>In a Jupyter environment, please rerun this cell to show the HTML representation or trust the notebook. <br />On GitHub, the HTML representation is unable to render, please try loading this page with nbviewer.org.</b></div><div class=\"sk-container\" hidden><div class=\"sk-item\"><div class=\"sk-estimator sk-toggleable\"><input class=\"sk-toggleable__control sk-hidden--visually\" id=\"sk-estimator-id-1\" type=\"checkbox\" checked><label for=\"sk-estimator-id-1\" class=\"sk-toggleable__label sk-toggleable__label-arrow\">LogisticRegression</label><div class=\"sk-toggleable__content\"><pre>LogisticRegression()</pre></div></div></div></div></div>"
      ],
      "text/plain": [
       "LogisticRegression()"
      ]
     },
     "execution_count": 27,
     "metadata": {},
     "output_type": "execute_result"
    }
   ],
   "source": [
    "lr = LogisticRegression()\n",
    "lr.fit(X_train, Y_train)"
   ]
  },
  {
   "cell_type": "code",
   "execution_count": 28,
   "id": "705fbc86",
   "metadata": {},
   "outputs": [],
   "source": [
    "# Predictions on training and testing data\n",
    "lr_train = lr.predict(X_train)\n",
    "lr_test = lr.predict(X_test)"
   ]
  },
  {
   "cell_type": "code",
   "execution_count": 29,
   "id": "d7619332",
   "metadata": {},
   "outputs": [
    {
     "name": "stdout",
     "output_type": "stream",
     "text": [
      "tn - True Negative\n",
      "tp - True Positive\n",
      "fn - False Negative\n",
      "fp - False Positive\n"
     ]
    },
    {
     "data": {
      "text/html": [
       "<div>\n",
       "<style scoped>\n",
       "    .dataframe tbody tr th:only-of-type {\n",
       "        vertical-align: middle;\n",
       "    }\n",
       "\n",
       "    .dataframe tbody tr th {\n",
       "        vertical-align: top;\n",
       "    }\n",
       "\n",
       "    .dataframe thead th {\n",
       "        text-align: right;\n",
       "    }\n",
       "</style>\n",
       "<table border=\"1\" class=\"dataframe\">\n",
       "  <thead>\n",
       "    <tr style=\"text-align: right;\">\n",
       "      <th></th>\n",
       "      <th>Predicted Fraud</th>\n",
       "      <th>Predicted Not Fraud</th>\n",
       "    </tr>\n",
       "  </thead>\n",
       "  <tbody>\n",
       "    <tr>\n",
       "      <th>Fraud</th>\n",
       "      <td>117</td>\n",
       "      <td>19</td>\n",
       "    </tr>\n",
       "    <tr>\n",
       "      <th>Not Fraud</th>\n",
       "      <td>949</td>\n",
       "      <td>81614</td>\n",
       "    </tr>\n",
       "  </tbody>\n",
       "</table>\n",
       "</div>"
      ],
      "text/plain": [
       "           Predicted Fraud  Predicted Not Fraud\n",
       "Fraud                  117                   19\n",
       "Not Fraud              949                81614"
      ]
     },
     "execution_count": 29,
     "metadata": {},
     "output_type": "execute_result"
    }
   ],
   "source": [
    "print('tn - True Negative')\n",
    "print('tp - True Positive')\n",
    "print('fn - False Negative')\n",
    "print('fp - False Positive')\n",
    "\n",
    "tn, fp, fn, tp = confusion_matrix(Y_test, lr_test).ravel()\n",
    "c_matrix = pd.DataFrame({'Predicted Fraud': [tp, fp],'Predicted Not Fraud': [fn, tn]}, index=['Fraud', 'Not Fraud'])\n",
    "c_matrix"
   ]
  },
  {
   "cell_type": "code",
   "execution_count": 30,
   "id": "d22aa1bf",
   "metadata": {},
   "outputs": [
    {
     "data": {
      "text/plain": [
       "<AxesSubplot:>"
      ]
     },
     "execution_count": 30,
     "metadata": {},
     "output_type": "execute_result"
    },
    {
     "data": {
      "image/png": "[encoded data removed]",
      "text/plain": [
       "<Figure size 432x288 with 2 Axes>"
      ]
     },
     "metadata": {},
     "output_type": "display_data"
    }
   ],
   "source": [
    "sns.heatmap(c_matrix, annot=True )"
   ]
  },
  {
   "cell_type": "markdown",
   "id": "0ec09c18",
   "metadata": {},
   "source": [
    "#### Heatmap also suggests that the data is highly imbalanced."
   ]
  },
  {
   "cell_type": "code",
   "execution_count": 31,
   "id": "c7c02ae1",
   "metadata": {},
   "outputs": [
    {
     "data": {
      "text/plain": [
       "0.9882949007847737"
      ]
     },
     "execution_count": 31,
     "metadata": {},
     "output_type": "execute_result"
    }
   ],
   "source": [
    "lr_accuracy = accuracy_score(Y_test, lr_test)\n",
    "lr_accuracy"
   ]
  },
  {
   "cell_type": "markdown",
   "id": "88377bd7",
   "metadata": {},
   "source": [
    "#### We can see here that accuracy is great. Around 98.8%.\n",
    "#### But we know that the dataset is highly unbalanced and accuracy takes into account the whole confusion matrix. So we can say that this measure is not suitable."
   ]
  },
  {
   "cell_type": "code",
   "execution_count": 32,
   "id": "04d9c650",
   "metadata": {},
   "outputs": [
    {
     "data": {
      "text/plain": [
       "0.10975609756097561"
      ]
     },
     "execution_count": 32,
     "metadata": {},
     "output_type": "execute_result"
    }
   ],
   "source": [
    "lr_precision = precision_score(Y_test, lr_test)\n",
    "lr_precision"
   ]
  },
  {
   "cell_type": "code",
   "execution_count": 33,
   "id": "e22ff74d",
   "metadata": {},
   "outputs": [
    {
     "data": {
      "text/plain": [
       "0.8602941176470589"
      ]
     },
     "execution_count": 33,
     "metadata": {},
     "output_type": "execute_result"
    }
   ],
   "source": [
    "lr_recall = recall_score(Y_test, lr_test)\n",
    "lr_recall"
   ]
  },
  {
   "cell_type": "markdown",
   "id": "acb9e322",
   "metadata": {},
   "source": [
    "#### Recall is very low in case of logistic regression. However, we may try to increase it by increasing the complexity of the model.\n",
    "#### Although, let's check the recall for training dataset to get the idea of any overfitting we may be having."
   ]
  },
  {
   "cell_type": "code",
   "execution_count": 34,
   "id": "976f4e92",
   "metadata": {},
   "outputs": [
    {
     "data": {
      "text/plain": [
       "0.9850955473531748"
      ]
     },
     "execution_count": 34,
     "metadata": {},
     "output_type": "execute_result"
    }
   ],
   "source": [
    "lr_recall_train = recall_score(Y_train, lr_train)\n",
    "lr_recall_train"
   ]
  },
  {
   "cell_type": "code",
   "execution_count": 35,
   "id": "c2a42844",
   "metadata": {},
   "outputs": [
    {
     "data": {
      "text/plain": [
       "0.19467554076539104"
      ]
     },
     "execution_count": 35,
     "metadata": {},
     "output_type": "execute_result"
    }
   ],
   "source": [
    "lr_f1 = f1_score(Y_test, lr_test)\n",
    "lr_f1"
   ]
  },
  {
   "cell_type": "code",
   "execution_count": 36,
   "id": "ec408e92",
   "metadata": {},
   "outputs": [
    {
     "name": "stdout",
     "output_type": "stream",
     "text": [
      "              precision    recall  f1-score   support\n",
      "\n",
      "           0       1.00      0.99      0.99     82563\n",
      "           1       0.11      0.86      0.19       136\n",
      "\n",
      "    accuracy                           0.99     82699\n",
      "   macro avg       0.55      0.92      0.59     82699\n",
      "weighted avg       1.00      0.99      0.99     82699\n",
      "\n"
     ]
    }
   ],
   "source": [
    "print(classification_report(Y_test, lr_test))"
   ]
  },
  {
   "cell_type": "markdown",
   "id": "f16b0d6e",
   "metadata": {},
   "source": [
    "#### Now, for the ROC Curve, we need the probabilites of Fraud happening (which is the probability of occurance of 1)"
   ]
  },
  {
   "cell_type": "code",
   "execution_count": 37,
   "id": "1a4505bc",
   "metadata": {},
   "outputs": [],
   "source": [
    "lr_pred_test_prob = lr.predict_proba(X_test)[:, 1]"
   ]
  },
  {
   "cell_type": "code",
   "execution_count": 38,
   "id": "15d7668b",
   "metadata": {},
   "outputs": [],
   "source": [
    "fpr, tpr, threshold = roc_curve(Y_test, lr_pred_test_prob)"
   ]
  },
  {
   "cell_type": "code",
   "execution_count": 39,
   "id": "2957b259",
   "metadata": {},
   "outputs": [
    {
     "data": {
      "text/plain": [
       "0.953600717384443"
      ]
     },
     "execution_count": 39,
     "metadata": {},
     "output_type": "execute_result"
    }
   ],
   "source": [
    "lr_auc = roc_auc_score(Y_test, lr_pred_test_prob)\n",
    "lr_auc"
   ]
  },
  {
   "cell_type": "code",
   "execution_count": 40,
   "id": "5ff20c14",
   "metadata": {},
   "outputs": [],
   "source": [
    "def plot_roc_curve(fpr, tpr, label=None):\n",
    "    plt.figure(figsize=(8, 6))\n",
    "    plt.title('ROC Curve', fontsize=15)\n",
    "    plt.plot([0, 1], [0, 1], 'k--')\n",
    "    plt.plot(fpr, tpr, linewidth=2, label=label)\n",
    "    plt.xticks(np.arange(0, 1, 0.05), rotation=90)\n",
    "    plt.xlabel('False Positive Rates', fontsize=15)\n",
    "    plt.ylabel('True Positive Rates', fontsize=15)\n",
    "    plt.legend(loc='best')\n",
    "    \n",
    "    plt.show()"
   ]
  },
  {
   "cell_type": "code",
   "execution_count": 41,
   "id": "92fe013a",
   "metadata": {},
   "outputs": [
    {
     "data": {
      "image/png": "[encoded data removed]",
      "text/plain": [
       "<Figure size 576x432 with 1 Axes>"
      ]
     },
     "metadata": {},
     "output_type": "display_data"
    }
   ],
   "source": [
    "plot_roc_curve(fpr=fpr, tpr=tpr, label=\"AUC = %.3f\" % lr_auc)"
   ]
  },
  {
   "cell_type": "markdown",
   "id": "cd9fb1e9",
   "metadata": {},
   "source": [
    "#### AUC is quite good. i.e. 0.965. Based on the data being highly imbalanced, we'll only check the AUC metric in later algorithms."
   ]
  },
  {
   "cell_type": "markdown",
   "id": "f7cfd049",
   "metadata": {},
   "source": [
    "#### MODEL COMPLEXITY\n",
    "#### Let's try to train the Logistic Regression models on the 2nd degree of polynomials. Not going further 2nd degree because features are already too much. Otherwise, computer gives the MemoryError.\n"
   ]
  },
  {
   "cell_type": "code",
   "execution_count": 42,
   "id": "04ab6752",
   "metadata": {},
   "outputs": [
    {
     "data": {
      "text/plain": [
       "(0.9998495565891604, 0.9404419156565647)"
      ]
     },
     "execution_count": 42,
     "metadata": {},
     "output_type": "execute_result"
    }
   ],
   "source": [
    "# Getting the polynomial features\n",
    "poly = PolynomialFeatures(degree=2)\n",
    "xtrain_poly = poly.fit_transform(X_train)\n",
    "xtest_poly = poly.fit_transform(X_test)\n",
    "\n",
    "# Training the model\n",
    "model = LogisticRegression()\n",
    "model.fit(xtrain_poly, Y_train)\n",
    "\n",
    "# Getting the probabilities\n",
    "train_prob = model.predict_proba(xtrain_poly)[:, 1]\n",
    "test_prob = model.predict_proba(xtest_poly)[:, 1]\n",
    "\n",
    "# Computing the ROC Score\n",
    "roc_auc_score(Y_train, train_prob), roc_auc_score(Y_test, test_prob)"
   ]
  },
  {
   "cell_type": "code",
   "execution_count": 43,
   "id": "7948fefc",
   "metadata": {},
   "outputs": [
    {
     "data": {
      "image/png": "[encoded data removed]",
      "text/plain": [
       "<Figure size 576x432 with 1 Axes>"
      ]
     },
     "metadata": {},
     "output_type": "display_data"
    }
   ],
   "source": [
    "fpr_poly, tpr_poly, threshold_poly = roc_curve(Y_test, test_prob)\n",
    "plot_roc_curve(fpr=fpr_poly, tpr=tpr_poly, label='AUC = %.3f' %  roc_auc_score(Y_test, test_prob))"
   ]
  },
  {
   "cell_type": "markdown",
   "id": "74d0dc5a",
   "metadata": {},
   "source": [
    "#### First degree is better in Logistic Regression case which gives 0.954 AUC Score."
   ]
  },
  {
   "cell_type": "code",
   "execution_count": 44,
   "id": "c8ba4949",
   "metadata": {},
   "outputs": [
    {
     "data": {
      "text/plain": [
       "0.8088235294117647"
      ]
     },
     "execution_count": 44,
     "metadata": {},
     "output_type": "execute_result"
    }
   ],
   "source": [
    "recall_score(Y_test, model.predict(xtest_poly))"
   ]
  },
  {
   "cell_type": "markdown",
   "id": "765f21c0",
   "metadata": {},
   "source": [
    "#### 3)NAIVE BAYES"
   ]
  },
  {
   "cell_type": "code",
   "execution_count": 45,
   "id": "3a6a9bf8",
   "metadata": {},
   "outputs": [
    {
     "data": {
      "text/html": [
       "<style>#sk-container-id-2 {color: black;background-color: white;}#sk-container-id-2 pre{padding: 0;}#sk-container-id-2 div.sk-toggleable {background-color: white;}#sk-container-id-2 label.sk-toggleable__label {cursor: pointer;display: block;width: 100%;margin-bottom: 0;padding: 0.3em;box-sizing: border-box;text-align: center;}#sk-container-id-2 label.sk-toggleable__label-arrow:before {content: \"▸\";float: left;margin-right: 0.25em;color: #696969;}#sk-container-id-2 label.sk-toggleable__label-arrow:hover:before {color: black;}#sk-container-id-2 div.sk-estimator:hover label.sk-toggleable__label-arrow:before {color: black;}#sk-container-id-2 div.sk-toggleable__content {max-height: 0;max-width: 0;overflow: hidden;text-align: left;background-color: #f0f8ff;}#sk-container-id-2 div.sk-toggleable__content pre {margin: 0.2em;color: black;border-radius: 0.25em;background-color: #f0f8ff;}#sk-container-id-2 input.sk-toggleable__control:checked~div.sk-toggleable__content {max-height: 200px;max-width: 100%;overflow: auto;}#sk-container-id-2 input.sk-toggleable__control:checked~label.sk-toggleable__label-arrow:before {content: \"▾\";}#sk-container-id-2 div.sk-estimator input.sk-toggleable__control:checked~label.sk-toggleable__label {background-color: #d4ebff;}#sk-container-id-2 div.sk-label input.sk-toggleable__control:checked~label.sk-toggleable__label {background-color: #d4ebff;}#sk-container-id-2 input.sk-hidden--visually {border: 0;clip: rect(1px 1px 1px 1px);clip: rect(1px, 1px, 1px, 1px);height: 1px;margin: -1px;overflow: hidden;padding: 0;position: absolute;width: 1px;}#sk-container-id-2 div.sk-estimator {font-family: monospace;background-color: #f0f8ff;border: 1px dotted black;border-radius: 0.25em;box-sizing: border-box;margin-bottom: 0.5em;}#sk-container-id-2 div.sk-estimator:hover {background-color: #d4ebff;}#sk-container-id-2 div.sk-parallel-item::after {content: \"\";width: 100%;border-bottom: 1px solid gray;flex-grow: 1;}#sk-container-id-2 div.sk-label:hover label.sk-toggleable__label {background-color: #d4ebff;}#sk-container-id-2 div.sk-serial::before {content: \"\";position: absolute;border-left: 1px solid gray;box-sizing: border-box;top: 0;bottom: 0;left: 50%;z-index: 0;}#sk-container-id-2 div.sk-serial {display: flex;flex-direction: column;align-items: center;background-color: white;padding-right: 0.2em;padding-left: 0.2em;position: relative;}#sk-container-id-2 div.sk-item {position: relative;z-index: 1;}#sk-container-id-2 div.sk-parallel {display: flex;align-items: stretch;justify-content: center;background-color: white;position: relative;}#sk-container-id-2 div.sk-item::before, #sk-container-id-2 div.sk-parallel-item::before {content: \"\";position: absolute;border-left: 1px solid gray;box-sizing: border-box;top: 0;bottom: 0;left: 50%;z-index: -1;}#sk-container-id-2 div.sk-parallel-item {display: flex;flex-direction: column;z-index: 1;position: relative;background-color: white;}#sk-container-id-2 div.sk-parallel-item:first-child::after {align-self: flex-end;width: 50%;}#sk-container-id-2 div.sk-parallel-item:last-child::after {align-self: flex-start;width: 50%;}#sk-container-id-2 div.sk-parallel-item:only-child::after {width: 0;}#sk-container-id-2 div.sk-dashed-wrapped {border: 1px dashed gray;margin: 0 0.4em 0.5em 0.4em;box-sizing: border-box;padding-bottom: 0.4em;background-color: white;}#sk-container-id-2 div.sk-label label {font-family: monospace;font-weight: bold;display: inline-block;line-height: 1.2em;}#sk-container-id-2 div.sk-label-container {text-align: center;}#sk-container-id-2 div.sk-container {/* jupyter's `normalize.less` sets `[hidden] { display: none; }` but bootstrap.min.css set `[hidden] { display: none !important; }` so we also need the `!important` here to be able to override the default hidden behavior on the sphinx rendered scikit-learn.org. See: https://github.com/scikit-learn/scikit-learn/issues/21755 */display: inline-block !important;position: relative;}#sk-container-id-2 div.sk-text-repr-fallback {display: none;}</style><div id=\"sk-container-id-2\" class=\"sk-top-container\"><div class=\"sk-text-repr-fallback\"><pre>GaussianNB()</pre><b>In a Jupyter environment, please rerun this cell to show the HTML representation or trust the notebook. <br />On GitHub, the HTML representation is unable to render, please try loading this page with nbviewer.org.</b></div><div class=\"sk-container\" hidden><div class=\"sk-item\"><div class=\"sk-estimator sk-toggleable\"><input class=\"sk-toggleable__control sk-hidden--visually\" id=\"sk-estimator-id-2\" type=\"checkbox\" checked><label for=\"sk-estimator-id-2\" class=\"sk-toggleable__label sk-toggleable__label-arrow\">GaussianNB</label><div class=\"sk-toggleable__content\"><pre>GaussianNB()</pre></div></div></div></div></div>"
      ],
      "text/plain": [
       "GaussianNB()"
      ]
     },
     "execution_count": 45,
     "metadata": {},
     "output_type": "execute_result"
    }
   ],
   "source": [
    "nb = GaussianNB()\n",
    "nb.fit(X_train, Y_train)"
   ]
  },
  {
   "cell_type": "code",
   "execution_count": 46,
   "id": "536649dd",
   "metadata": {},
   "outputs": [],
   "source": [
    "nb_pred = nb.predict(X_test)\n",
    "nb_pred_proba = nb.predict_proba(X_test)[:, 1]"
   ]
  },
  {
   "cell_type": "code",
   "execution_count": 47,
   "id": "abe584c4",
   "metadata": {},
   "outputs": [
    {
     "data": {
      "image/png": "[encoded data removed]",
      "text/plain": [
       "<Figure size 576x432 with 1 Axes>"
      ]
     },
     "metadata": {},
     "output_type": "display_data"
    }
   ],
   "source": [
    "nb_auc = roc_auc_score(Y_test, nb_pred)\n",
    "fpr, tpr, threshold = roc_curve(Y_test, nb_pred_proba)\n",
    "plot_roc_curve(fpr, tpr, 'AUC = %.3f' % nb_auc)"
   ]
  },
  {
   "cell_type": "code",
   "execution_count": 48,
   "id": "63754788",
   "metadata": {},
   "outputs": [
    {
     "data": {
      "text/plain": [
       "1.0"
      ]
     },
     "execution_count": 48,
     "metadata": {},
     "output_type": "execute_result"
    }
   ],
   "source": [
    "nb_recall = recall_score(Y_test, nb_pred)\n",
    "nb_recall"
   ]
  },
  {
   "cell_type": "code",
   "execution_count": 49,
   "id": "9231d3c6",
   "metadata": {},
   "outputs": [
    {
     "data": {
      "text/plain": [
       "0.0027207100448614855"
      ]
     },
     "execution_count": 49,
     "metadata": {},
     "output_type": "execute_result"
    }
   ],
   "source": [
    "nb_accuracy = accuracy_score(Y_test, nb_pred)\n",
    "nb_accuracy"
   ]
  },
  {
   "cell_type": "code",
   "execution_count": 50,
   "id": "746e04b2",
   "metadata": {},
   "outputs": [
    {
     "data": {
      "text/plain": [
       "0.0016462897954242829"
      ]
     },
     "execution_count": 50,
     "metadata": {},
     "output_type": "execute_result"
    }
   ],
   "source": [
    "nb_precision = precision_score(Y_test, nb_pred)\n",
    "nb_precision"
   ]
  },
  {
   "cell_type": "code",
   "execution_count": 51,
   "id": "b08c4a0f",
   "metadata": {},
   "outputs": [],
   "source": [
    "nb_f1 = f1_score(Y_test, nb_pred)"
   ]
  },
  {
   "cell_type": "code",
   "execution_count": 52,
   "id": "9d986433",
   "metadata": {},
   "outputs": [
    {
     "name": "stdout",
     "output_type": "stream",
     "text": [
      "              precision    recall  f1-score   support\n",
      "\n",
      "           0       1.00      0.00      0.00     82563\n",
      "           1       0.00      1.00      0.00       136\n",
      "\n",
      "    accuracy                           0.00     82699\n",
      "   macro avg       0.50      0.50      0.00     82699\n",
      "weighted avg       1.00      0.00      0.00     82699\n",
      "\n"
     ]
    }
   ],
   "source": [
    "print(classification_report(Y_test, nb_pred))"
   ]
  },
  {
   "cell_type": "markdown",
   "id": "2145fe2f",
   "metadata": {},
   "source": [
    "#### 3) KNN"
   ]
  },
  {
   "cell_type": "code",
   "execution_count": 53,
   "id": "dc01fb16",
   "metadata": {},
   "outputs": [],
   "source": [
    "full_data = pd.read_csv(\"creditcard.csv\")\n",
    "full_features = full_data.drop([\"Time\",\"Class\"], axis = 1)\n",
    "full_labels = pd.DataFrame(full_data[[\"Class\"]])\n",
    "\n",
    "full_features_array = full_features.values\n",
    "full_labels_array = full_labels.values"
   ]
  },
  {
   "cell_type": "code",
   "execution_count": 54,
   "id": "06d89352",
   "metadata": {},
   "outputs": [],
   "source": [
    "#normalizing data\n",
    "train_features, test_features, train_labels, test_labels = train_test_split(full_features_array, full_labels_array, train_size = 0.90)\n",
    "train_features = normalize(train_features)\n",
    "test_features = normalize(test_features)"
   ]
  },
  {
   "cell_type": "code",
   "execution_count": 55,
   "id": "01ec185b",
   "metadata": {},
   "outputs": [
    {
     "name": "stdout",
     "output_type": "stream",
     "text": [
      "tn --> true negatives\n",
      "fp --> false positives\n",
      "fn --> false negatives\n",
      "tp --> true positives\n"
     ]
    }
   ],
   "source": [
    "kmeans = KMeans(n_clusters = 2, random_state = 0, algorithm = \"elkan\", max_iter = 10000)\n",
    "kmeans.fit(train_features)\n",
    "kmeans_predicted_train_labels = kmeans.predict(train_features)\n",
    "# fn tp\n",
    "print(\"tn --> true negatives\")\n",
    "print(\"fp --> false positives\")\n",
    "print(\"fn --> false negatives\")\n",
    "print(\"tp --> true positives\")"
   ]
  },
  {
   "cell_type": "code",
   "execution_count": 56,
   "id": "120489e3",
   "metadata": {},
   "outputs": [],
   "source": [
    "tn, fp, fn, tp = confusion_matrix(train_labels, kmeans_predicted_train_labels).ravel()\n",
    "reassignflag = False\n",
    "if tn + tp < fn + fp:\n",
    "\t# Clustering is opposite of Original Classification\n",
    "\treassignflag = True\n",
    "kmeans_predicted_test_labels = kmeans.predict(test_features)\n",
    "if reassignflag:\n",
    "\tkmeans_predicted_test_labels = 1 - kmeans_predicted_test_labels"
   ]
  },
  {
   "cell_type": "code",
   "execution_count": 57,
   "id": "26b19518",
   "metadata": {},
   "outputs": [],
   "source": [
    "# Calculating Confusion Matrix for kmeans\n",
    "tn, fp, fn, tp = confusion_matrix(test_labels, kmeans_predicted_test_labels).ravel()\n",
    "\n",
    "# Scoring kmeans\n",
    "kmeans_accuracy_score = accuracy_score(test_labels,kmeans_predicted_test_labels)\n",
    "kmeans_precison_score = precision_score(test_labels,kmeans_predicted_test_labels)\n",
    "kmeans_recall_score = recall_score(test_labels,kmeans_predicted_test_labels)\n",
    "kmeans_f1_score = f1_score(test_labels,kmeans_predicted_test_labels)"
   ]
  },
  {
   "cell_type": "code",
   "execution_count": 58,
   "id": "30c690ee",
   "metadata": {},
   "outputs": [
    {
     "name": "stdout",
     "output_type": "stream",
     "text": [
      "\n",
      "K-Means\n",
      "Confusion Matrix\n",
      "tn = 22570 fp = 5864\n",
      "fn = 21 tp = 26\n",
      "Scores\n",
      "Accuracy --> 0.7933710192760086\n",
      "Precison --> 0.004414261460101867\n",
      "Recall --> 0.5531914893617021\n",
      "F1 --> 0.00875863230587839\n"
     ]
    }
   ],
   "source": [
    "# Printing\n",
    "print(\"\\nK-Means\")\n",
    "print(\"Confusion Matrix\")\n",
    "print(\"tn =\", tn, \"fp =\",fp)\n",
    "print(\"fn =\", fn, \"tp =\",tp)\n",
    "print(\"Scores\")\n",
    "print(\"Accuracy -->\", kmeans_accuracy_score)\n",
    "print(\"Precison -->\", kmeans_precison_score)\n",
    "print(\"Recall -->\", kmeans_recall_score)\n",
    "print(\"F1 -->\", kmeans_f1_score)\n",
    "\n",
    "# k_nearest_neighbours_classification:\n",
    "knn = KNeighborsClassifier(n_neighbors = 5, algorithm = \"kd_tree\", n_jobs = -1)\n",
    "knn.fit(train_features, train_labels.ravel())\n",
    "knn_predicted_test_labels = knn.predict(test_features)"
   ]
  },
  {
   "cell_type": "code",
   "execution_count": 72,
   "id": "4a9200ea",
   "metadata": {},
   "outputs": [
    {
     "name": "stdout",
     "output_type": "stream",
     "text": [
      "\n",
      "K-Nearest Neighbours\n",
      "Confusion Matrix\n",
      "tn = 28427 fp = 7\n",
      "fn = 15 tp = 32\n",
      "Scores\n",
      "Accuracy --> 0.9992275552122467\n",
      "Precison --> 0.8205128205128205\n",
      "Recall --> 0.6808510638297872\n",
      "F1 --> 0.7441860465116279\n"
     ]
    }
   ],
   "source": [
    "# Calculating Confusion Matrix for knn\n",
    "tn, fp, fn, tp = confusion_matrix(test_labels, knn_predicted_test_labels).ravel()\n",
    "\n",
    "# Scoring knn\n",
    "knn_accuracy_score = accuracy_score(test_labels, knn_predicted_test_labels)\n",
    "knn_precison_score = precision_score(test_labels, knn_predicted_test_labels)\n",
    "knn_recall_score = recall_score(test_labels, knn_predicted_test_labels)\n",
    "knn_f1_score = f1_score(test_labels, knn_predicted_test_labels)\n",
    "\n",
    "# Printing\n",
    "print(\"\\nK-Nearest Neighbours\")\n",
    "print(\"Confusion Matrix\")\n",
    "print(\"tn =\", tn, \"fp =\", fp)\n",
    "print(\"fn =\", fn, \"tp =\", tp)\n",
    "print(\"Scores\")\n",
    "print(\"Accuracy -->\", knn_accuracy_score)\n",
    "print(\"Precison -->\", knn_precison_score)\n",
    "print(\"Recall -->\", knn_recall_score)\n",
    "print(\"F1 -->\", knn_f1_score)\n"
   ]
  },
  {
   "cell_type": "code",
   "execution_count": 59,
   "id": "f9131256",
   "metadata": {},
   "outputs": [
    {
     "data": {
      "image/png": "[encoded data removed]",
      "text/plain": [
       "<Figure size 432x288 with 1 Axes>"
      ]
     },
     "metadata": {},
     "output_type": "display_data"
    }
   ],
   "source": [
    "fpr, tpr, threshold = roc_curve(test_labels, knn_predicted_test_labels)\n",
    "roc_auc = auc(fpr, tpr)\n",
    "\n",
    "plt.title('Receiver Operating Characteristic')\n",
    "plt.plot(fpr, tpr, 'b', label = 'AUC = %0.2f' % roc_auc)\n",
    "plt.legend(loc = 'lower right')\n",
    "plt.plot([0, 1], [0, 1], 'r--')\n",
    "plt.xlim([0, 1])\n",
    "plt.ylim([0, 1])\n",
    "plt.ylabel('True Positive Rate')\n",
    "plt.xlabel('False Positive Rate')\n",
    "plt.title('ROC Curve of kNN')\n",
    "plt.show()"
   ]
  },
  {
   "cell_type": "markdown",
   "id": "a39ddbaf",
   "metadata": {},
   "source": [
    "#### 4) RANDOM FOREST CLASSIFIER"
   ]
  },
  {
   "cell_type": "code",
   "execution_count": 60,
   "id": "a4672c9f",
   "metadata": {},
   "outputs": [],
   "source": [
    "# random forest model creation\n",
    "rfc = RandomForestClassifier()\n",
    "rfc.fit(X_train,Y_train)\n",
    "# predictions\n",
    "y_pred = rfc.predict(X_test)"
   ]
  },
  {
   "cell_type": "code",
   "execution_count": 61,
   "id": "ade6ba0c",
   "metadata": {},
   "outputs": [
    {
     "name": "stdout",
     "output_type": "stream",
     "text": [
      "Total fraud transactions:  473\n",
      "Total valid transactions:  275190\n"
     ]
    }
   ],
   "source": [
    "fraud_ = data[data[\"Class\"] == 1]\n",
    "valid_ = data[data[\"Class\"] == 0]\n",
    "print(\"Total fraud transactions: \",len(fraud_))\n",
    "print(\"Total valid transactions: \",len(valid_))"
   ]
  },
  {
   "cell_type": "code",
   "execution_count": 62,
   "id": "4d924577",
   "metadata": {},
   "outputs": [
    {
     "name": "stdout",
     "output_type": "stream",
     "text": [
      "Random Forest Classifier\n",
      "Accuracy :  0.9994679500356716\n",
      "Precision:  0.8709677419354839\n",
      "Recall:  0.7941176470588235\n",
      "F1-Score:  0.8307692307692308\n"
     ]
    }
   ],
   "source": [
    "n_outliers = len(fraud_)\n",
    "n_errors = (y_pred != Y_test ).sum()\n",
    "print(\"Random Forest Classifier\")\n",
    "\n",
    "# calculating accuray of the model\n",
    "accuracy = accuracy_score(Y_test, y_pred)\n",
    "print(\"Accuracy : \",accuracy)\n",
    " \n",
    "# calculating precision of the model\n",
    "precision = precision_score(Y_test, y_pred)\n",
    "print(\"Precision: \",precision)\n",
    "\n",
    "# calculating recall score of the model\n",
    "recall = recall_score(Y_test, y_pred)\n",
    "print(\"Recall: \",recall)\n",
    "\n",
    "# calculating f1-score of the model\n",
    "f1 = f1_score(Y_test, y_pred)\n",
    "print(\"F1-Score: \",f1)\n",
    " "
   ]
  },
  {
   "cell_type": "code",
   "execution_count": 63,
   "id": "400f2e59",
   "metadata": {},
   "outputs": [
    {
     "data": {
      "image/png": "[encoded data removed]",
      "text/plain": [
       "<Figure size 504x432 with 2 Axes>"
      ]
     },
     "metadata": {},
     "output_type": "display_data"
    }
   ],
   "source": [
    "# printing the confusion matrix\n",
    "conf_matrix = confusion_matrix(Y_test, y_pred)\n",
    "plt.figure(figsize = (7, 6))\n",
    "sns.heatmap(conf_matrix, annot=True, fmt =\"d\");\n",
    "plt.title(\"Confusion Matrix\")\n",
    "plt.ylabel('True class')\n",
    "plt.xlabel('Predicted class')\n",
    "plt.show()"
   ]
  },
  {
   "cell_type": "code",
   "execution_count": 64,
   "id": "cb14e4a3",
   "metadata": {},
   "outputs": [
    {
     "data": {
      "text/plain": [
       "0.9571124741819259"
      ]
     },
     "execution_count": 64,
     "metadata": {},
     "output_type": "execute_result"
    }
   ],
   "source": [
    "rfc_pred_test_prob = rfc.predict_proba(X_test)[:, 1]\n",
    "fpr, tpr, threshold = roc_curve(Y_test, rfc_pred_test_prob)\n",
    "rfc_auc = roc_auc_score(Y_test, rfc_pred_test_prob)\n",
    "rfc_auc"
   ]
  },
  {
   "cell_type": "code",
   "execution_count": 65,
   "id": "1258e81c",
   "metadata": {},
   "outputs": [
    {
     "data": {
      "image/png": "[encoded data removed]",
      "text/plain": [
       "<Figure size 576x432 with 1 Axes>"
      ]
     },
     "metadata": {},
     "output_type": "display_data"
    }
   ],
   "source": [
    "plot_roc_curve(fpr=fpr, tpr=tpr, label=\"AUC = %.3f\" % rfc_auc)"
   ]
  },
  {
   "cell_type": "code",
   "execution_count": 66,
   "id": "19dea444",
   "metadata": {},
   "outputs": [
    {
     "data": {
      "text/html": [
       "<div>\n",
       "<style scoped>\n",
       "    .dataframe tbody tr th:only-of-type {\n",
       "        vertical-align: middle;\n",
       "    }\n",
       "\n",
       "    .dataframe tbody tr th {\n",
       "        vertical-align: top;\n",
       "    }\n",
       "\n",
       "    .dataframe thead th {\n",
       "        text-align: right;\n",
       "    }\n",
       "</style>\n",
       "<table border=\"1\" class=\"dataframe\">\n",
       "  <thead>\n",
       "    <tr style=\"text-align: right;\">\n",
       "      <th></th>\n",
       "      <th>ACCURACY</th>\n",
       "      <th>PRECISION</th>\n",
       "      <th>F1-SCORE</th>\n",
       "      <th>RECALL</th>\n",
       "      <th>AUC</th>\n",
       "    </tr>\n",
       "  </thead>\n",
       "  <tbody>\n",
       "    <tr>\n",
       "      <th>Logistic Regression (LR)</th>\n",
       "      <td>0.0</td>\n",
       "      <td>0.0</td>\n",
       "      <td>0.0</td>\n",
       "      <td>0.0</td>\n",
       "      <td>0.0</td>\n",
       "    </tr>\n",
       "    <tr>\n",
       "      <th>Naive Bayes(NB)</th>\n",
       "      <td>0.0</td>\n",
       "      <td>0.0</td>\n",
       "      <td>0.0</td>\n",
       "      <td>0.0</td>\n",
       "      <td>0.0</td>\n",
       "    </tr>\n",
       "    <tr>\n",
       "      <th>K-Nearest Neighbour(KNN)</th>\n",
       "      <td>0.0</td>\n",
       "      <td>0.0</td>\n",
       "      <td>0.0</td>\n",
       "      <td>0.0</td>\n",
       "      <td>0.0</td>\n",
       "    </tr>\n",
       "    <tr>\n",
       "      <th>Random Forest (RF)</th>\n",
       "      <td>0.0</td>\n",
       "      <td>0.0</td>\n",
       "      <td>0.0</td>\n",
       "      <td>0.0</td>\n",
       "      <td>0.0</td>\n",
       "    </tr>\n",
       "  </tbody>\n",
       "</table>\n",
       "</div>"
      ],
      "text/plain": [
       "                          ACCURACY  PRECISION  F1-SCORE  RECALL  AUC\n",
       "Logistic Regression (LR)       0.0        0.0       0.0     0.0  0.0\n",
       "Naive Bayes(NB)                0.0        0.0       0.0     0.0  0.0\n",
       "K-Nearest Neighbour(KNN)       0.0        0.0       0.0     0.0  0.0\n",
       "Random Forest (RF)             0.0        0.0       0.0     0.0  0.0"
      ]
     },
     "execution_count": 66,
     "metadata": {},
     "output_type": "execute_result"
    }
   ],
   "source": [
    "Results = pd.DataFrame(np.zeros((4,5)), columns=['ACCURACY', 'PRECISION', 'F1-SCORE', 'RECALL', 'AUC'])\n",
    "Results.index=['Logistic Regression (LR)', 'Naive Bayes(NB)' , 'K-Nearest Neighbour(KNN)' ,'Random Forest (RF)']\n",
    "Results"
   ]
  },
  {
   "cell_type": "code",
   "execution_count": 67,
   "id": "fe52516e",
   "metadata": {},
   "outputs": [],
   "source": [
    "Results.iloc[0]['ACCURACY']= lr_accuracy * 100 \n",
    "Results.iloc[0]['PRECISION']= lr_precision * 100 \n",
    "Results.iloc[0]['F1-SCORE']= lr_f1 * 100 \n",
    "Results.iloc[0]['RECALL']= lr_recall * 100 \n",
    "Results.iloc[0]['AUC']= lr_auc * 100 \n"
   ]
  },
  {
   "cell_type": "code",
   "execution_count": 68,
   "id": "5bf819fd",
   "metadata": {},
   "outputs": [],
   "source": [
    "Results.iloc[1]['ACCURACY']= accuracy * 100 \n",
    "Results.iloc[1]['PRECISION']= precision * 100 \n",
    "Results.iloc[1]['F-1 SCORE']= f1 * 100 \n",
    "Results.iloc[1]['RECALL']= nb_recall * 100 \n",
    "Results.iloc[1]['AUC']= nb_auc * 100 \n"
   ]
  },
  {
   "cell_type": "code",
   "execution_count": 69,
   "id": "f3c9fe00",
   "metadata": {},
   "outputs": [],
   "source": [
    "Results.iloc[2]['ACCURACY']= kmeans_accuracy_score * 100 \n",
    "Results.iloc[2]['PRECISION']= kmeans_precison_score * 100 \n",
    "Results.iloc[2]['F1-SCORE']= kmeans_f1_score * 100 \n",
    "Results.iloc[2]['RECALL']= kmeans_recall_score * 100 \n",
    "Results.iloc[2]['AUC']= roc_auc * 100 \n",
    "\n"
   ]
  },
  {
   "cell_type": "code",
   "execution_count": 70,
   "id": "30e646db",
   "metadata": {},
   "outputs": [],
   "source": [
    "Results.iloc[3]['ACCURACY']= accuracy * 100 \n",
    "Results.iloc[3]['PRECISION']= precision * 100 \n",
    "Results.iloc[3]['F1-SCORE']= f1 * 100 \n",
    "Results.iloc[3]['RECALL']= recall * 100 \n",
    "Results.iloc[3]['AUC']= rfc_auc * 100 \n"
   ]
  },
  {
   "cell_type": "code",
   "execution_count": 71,
   "id": "3cba3552",
   "metadata": {},
   "outputs": [
    {
     "data": {
      "text/html": [
       "<div>\n",
       "<style scoped>\n",
       "    .dataframe tbody tr th:only-of-type {\n",
       "        vertical-align: middle;\n",
       "    }\n",
       "\n",
       "    .dataframe tbody tr th {\n",
       "        vertical-align: top;\n",
       "    }\n",
       "\n",
       "    .dataframe thead th {\n",
       "        text-align: right;\n",
       "    }\n",
       "</style>\n",
       "<table border=\"1\" class=\"dataframe\">\n",
       "  <thead>\n",
       "    <tr style=\"text-align: right;\">\n",
       "      <th></th>\n",
       "      <th>ACCURACY</th>\n",
       "      <th>PRECISION</th>\n",
       "      <th>F1-SCORE</th>\n",
       "      <th>RECALL</th>\n",
       "      <th>AUC</th>\n",
       "    </tr>\n",
       "  </thead>\n",
       "  <tbody>\n",
       "    <tr>\n",
       "      <th>Logistic Regression (LR)</th>\n",
       "      <td>98.829490</td>\n",
       "      <td>10.975610</td>\n",
       "      <td>19.467554</td>\n",
       "      <td>86.029412</td>\n",
       "      <td>95.360072</td>\n",
       "    </tr>\n",
       "    <tr>\n",
       "      <th>Naive Bayes(NB)</th>\n",
       "      <td>99.946795</td>\n",
       "      <td>87.096774</td>\n",
       "      <td>0.000000</td>\n",
       "      <td>100.000000</td>\n",
       "      <td>50.053898</td>\n",
       "    </tr>\n",
       "    <tr>\n",
       "      <th>K-Nearest Neighbour(KNN)</th>\n",
       "      <td>79.337102</td>\n",
       "      <td>0.441426</td>\n",
       "      <td>0.875863</td>\n",
       "      <td>55.319149</td>\n",
       "      <td>84.030244</td>\n",
       "    </tr>\n",
       "    <tr>\n",
       "      <th>Random Forest (RF)</th>\n",
       "      <td>99.946795</td>\n",
       "      <td>87.096774</td>\n",
       "      <td>83.076923</td>\n",
       "      <td>79.411765</td>\n",
       "      <td>95.711247</td>\n",
       "    </tr>\n",
       "  </tbody>\n",
       "</table>\n",
       "</div>"
      ],
      "text/plain": [
       "                           ACCURACY  PRECISION   F1-SCORE      RECALL  \\\n",
       "Logistic Regression (LR)  98.829490  10.975610  19.467554   86.029412   \n",
       "Naive Bayes(NB)           99.946795  87.096774   0.000000  100.000000   \n",
       "K-Nearest Neighbour(KNN)  79.337102   0.441426   0.875863   55.319149   \n",
       "Random Forest (RF)        99.946795  87.096774  83.076923   79.411765   \n",
       "\n",
       "                                AUC  \n",
       "Logistic Regression (LR)  95.360072  \n",
       "Naive Bayes(NB)           50.053898  \n",
       "K-Nearest Neighbour(KNN)  84.030244  \n",
       "Random Forest (RF)        95.711247  "
      ]
     },
     "execution_count": 71,
     "metadata": {},
     "output_type": "execute_result"
    }
   ],
   "source": [
    "Results"
   ]
  },
  {
   "cell_type": "code",
   "execution_count": null,
   "id": "c29ec7ff",
   "metadata": {},
   "outputs": [],
   "source": []
  }
 ],
 "metadata": {
  "kernelspec": {
   "display_name": "Python 3",
   "language": "python",
   "name": "python3"
  },
  "language_info": {
   "codemirror_mode": {
    "name": "ipython",
    "version": 3
   },
   "file_extension": ".py",
   "mimetype": "text/x-python",
   "name": "python",
   "nbconvert_exporter": "python",
   "pygments_lexer": "ipython3",
   "version": "3.8.8"
  }
 },
 "nbformat": 4,
 "nbformat_minor": 5
}
